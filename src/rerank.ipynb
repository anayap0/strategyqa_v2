{
 "cells": [
  {
   "cell_type": "code",
   "execution_count": null,
   "metadata": {},
   "outputs": [],
   "source": [
    "# This is currently unused as it doesn't really work\n",
    "\n",
    "from transformers import DPRContextEncoder, DPRContextEncoderTokenizer\n",
    "from pyserini.search import LuceneSearcher\n",
    "import torch\n",
    "\n",
    "# Load DPR (Dense Passage Retrieval) model and tokenizer\n",
    "model_name = 'facebook/dpr-ctx_encoder-single-nq-base'\n",
    "tokenizer = DPRContextEncoderTokenizer.from_pretrained(model_name)\n",
    "model = DPRContextEncoder.from_pretrained(model_name)\n",
    "searcher = LuceneSearcher('../drive/MyDrive/UW/CSE 447/Final Project/NLP/sample_collection_jsonl/')\n",
    "\n",
    "def getDocsForQuestion(question):\n",
    "# Define your query and list of passages\n",
    "  hits = searcher.search(question, 100)\n",
    "\n",
    "  formatted_hits = [json.loads(searcher.doc(hit.docid).raw())['contents'] for hit in hits]\n",
    "  query = question\n",
    "  passages = formatted_hits\n",
    "\n",
    "  print(passages)\n",
    "\n",
    "  # Tokenize query and passages\n",
    "  inputs = tokenizer([query]*len(passages), passages, return_tensors='pt', padding=True, truncation=True)\n",
    "\n",
    "  # Encode query and passages\n",
    "  with torch.no_grad():\n",
    "      outputs = model(**inputs)\n",
    "\n",
    "  # Extract passage embeddings from outputs\n",
    "  passage_embeddings = outputs.pooler_output.cpu().numpy()\n",
    "\n",
    "  # Compute similarity scores between query and passages\n",
    "  query_embedding = passage_embeddings[0]  # Extract query embedding\n",
    "  passage_embeddings = passage_embeddings[1:]  # Extract passage embeddings\n",
    "  similarity_scores = torch.nn.functional.cosine_similarity(torch.tensor(query_embedding).unsqueeze(0), torch.tensor(passage_embeddings), dim=1)\n",
    "\n",
    "  # Sort passages based on similarity scores (higher scores mean higher relevance)\n",
    "  sorted_passages = sorted(zip(passages, similarity_scores), key=lambda x: x[1], reverse=True)\n",
    "\n",
    "  # Print reranked passages\n",
    "  for passage, score in sorted_passages:\n",
    "      print(f\"Passage: {passage}\\nSimilarity Score: {score}\\n\")"
   ]
  },
  {
   "cell_type": "code",
   "execution_count": null,
   "metadata": {},
   "outputs": [],
   "source": [
    "docs = getDocsForQuestion('What language is used in Saint Vincent and the Grenadines?', \n",
    "                          \"../drive/MyDrive/UW/CSE 447/Final Project/NLP/sample_collection_jsonl/\")\n",
    "\n",
    "print(docs)"
   ]
  }
 ],
 "metadata": {
  "language_info": {
   "name": "python"
  }
 },
 "nbformat": 4,
 "nbformat_minor": 2
}
